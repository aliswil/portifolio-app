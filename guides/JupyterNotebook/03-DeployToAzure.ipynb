{
 "cells": [
  {
   "cell_type": "markdown",
   "metadata": {},
   "source": [
    "# Kom i gang med å laste opp din nettside til skyen\n",
    "Først må dere sette opp en gratis Azure konto her: https://azure.microsoft.com/en-us/free/students/\n",
    "\n",
    "\n",
    "## Med Azure Portalen\n",
    "Denne guiden kan dere også finne her: https://learn.microsoft.com/en-us/azure/static-web-apps/get-started-portal?tabs=vanilla-javascript&pivots=github\n",
    "\n",
    "1. Gå til Azure Portalen [www.portal.azure.com] og logg dere inn med deres studentbruker \n",
    "2. Velg **Create a Resource**.\n",
    "3. Søk etter **Static Web Apps**.\n",
    "4. Velg **Static Web Apps**.\n",
    "5. Velg **Create**.\n",
    "\n",
    "6. I fanen Basic må du gjøre følgende: \n",
    "- Lag en ny ressurs gruppe\n",
    "- Fyll ut navn på appen din\n",
    "- Under Deployment details velger dere GitHub som source (det er her koden til nettsiden ligger), og logger dere inn med GitHub kontoen deres. \n",
    "- Deretter velger dere riktig Organization, Repository og Branch ut fra der koden deres ligger.\n",
    "- Under Build Details: velg React. La resten av feltene være default. \n",
    "\n",
    "7. Velg **Review + Create** \n",
    "8. Når ressursen er laget, velg **Go To Resource** \n",
    "\n",
    "9. Sørg for at deploymenten er ferdig. Trykk på banneret som sier **Select here to check the status of your GitHub Actions runs**. Når du har sett at alt har kjørt ferdig kan du gå til nettsiden via URLen. \n",
    "\n",
    "10. Trykk på **URL linken** for å komme til din nettside! \n",
    "\n",
    "## Med Visual Studio Code\n",
    "Denne guiden kan dere også finne her: https://learn.microsoft.com/en-us/azure/static-web-apps/getting-started?tabs=vanilla-javascript\n",
    "\n",
    "1. Installer **Azure Static Web Apps Extension** i Visual Studio Code. Den finner du ved å trykke på Extensions i menyen på venstre side og søke etter Azure Static Web Apps. \n",
    "2. Under installasjonen vil du måtte logge deg på din Azure-konto\n",
    "3. Trykk på Azure Extension på venstre side\n",
    "4. Høyreklikk på Static Web Apps og velg **Create Static Web App..**\n",
    "5. Fyll ut informasjonen som trengs i stegene som kommer. \n",
    "- Appen må få et navn\n",
    "- Under region kan du velge West Europe\n",
    "- Velg React som build/project structure\n",
    "- La location være '/' som er default\n",
    "- På build location lar du default 'build' stå\n",
    "\n",
    "6. Deretter er det bare å vente mens appen deployer. Du får en popup som sier at appen deployer. Klikk på **View Output** hvis du vil følge med på hvordan det går.\n",
    "7. For å se nettsiden i nettleseren kan du høyreklikke på prosjektet under Static Web Apps Extension og velge **Browse Site** \n"
   ]
  }
 ],
 "metadata": {
  "kernelspec": {
   "display_name": "Python 3.10.8 64-bit",
   "language": "python",
   "name": "python3"
  },
  "language_info": {
   "name": "python",
   "version": "3.10.8"
  },
  "orig_nbformat": 4,
  "vscode": {
   "interpreter": {
    "hash": "aee8b7b246df8f9039afb4144a1f6fd8d2ca17a180786b69acc140d282b71a49"
   }
  }
 },
 "nbformat": 4,
 "nbformat_minor": 2
}
