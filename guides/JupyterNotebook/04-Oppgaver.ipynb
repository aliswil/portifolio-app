{
 "cells": [
  {
   "cell_type": "markdown",
   "metadata": {},
   "source": [
    "# Oppgaver\n",
    "\n",
    "Vi har opprettet et sett med oppgaver med ulike nivå slik at du kan personalisere din egen portefølje slik du vil. Dersom du går inn i /src mappen i prosjektet finner du noen forslag til komponenter du kan ha på siden din. \n",
    "\n",
    "Du velger helt selv om du vil ha siden på norsk eller engelsk. Om du sitter fast kan du hente inspirasjon fra /solution mappen i prosjektet\n",
    "\n",
    "Tips 1: Les dokumentasjonen til [Tailwind](https://tailwindcss.com/docs/installation) underveis når du skal legge til endringer. \n",
    "\n",
    "Tips 2: Last ned [Tailwindcss intellisence](https://tailwindcss.com/docs/editor-setup) i Visual Studio Code som gjør det mer forståelig å jobbe med Tailwind. \n",
    "\n",
    "## Oppgave 1\n",
    "\n",
    "Gå inn i /src/components/HomePage.tsx og endre/lag din egen forside. \n",
    "\n",
    "Klarer du å få knappen til å få deg ned til neste side? (Sjekk ut hvordan /NavBar.jsx komponenten linker mellom de ulike sidene)\n",
    "\n",
    "Tips: [Coolors.co](https://coolors.co/) er en genial nettside for å finne kule farger og tilhørende fargekoder som du kan bruke på nettsiden din. \n",
    "\n",
    "<!-- Skal man kunne gjøre siden responsiv selv? Kan fjerne det og legge det til som en oppgave nederst for de som er flinke -->\n",
    "\n",
    "## Oppgave 2\n",
    "\n",
    "Gå inn i /src/components/AboutMe.tsx og legg til en beskrivende tekst om deg selv. Her er det bare å være kreativ. \n",
    "\n",
    "Prøv å legge inn et bilde av deg selv. \n",
    "\n",
    "## Oppgave 3 \n",
    "\n",
    "Nå skal du få vise frem egenskaper og erfaringer du har opparbeidet til nå. Tenk gjennom hvilke teknologier du har lært deg og legg dem til i /src/components/Skills.tsx. Du velger selv hvordan du vil gruppere egenskapene dine, gjerne fjern eller legg til flere bokser. \n",
    "\n",
    "Prøv å endre paddingen til innholdet i kortene slik at teksten ikke går helt ut i kantene. \n",
    "\n",
    "## Oppgave 4\n",
    "\n",
    "Har du hatt noen kule gruppeprosjekt eller hobbyprosjekt du har lyst til å vise frem? I /src/components/Projects.tsx kan du legge til lenker eller screenshots av prosjekter du har jobbet med i eller utenom studietiden. Her kan det være en ide å gjenbruke kode fra forrige oppgave.  \n",
    "\n",
    "## Oppgave 5\n",
    "\n",
    "Nå skal du opprette din egen komponent der du skal gjøre det mulig for de som besøker siden å kontakte deg. Her kan du feks legge til mailen din eller linkedIn profilen din.\n",
    "\n",
    "## Oppgave 6\n",
    "\n",
    "Templaten var responsiv til å starte med, men etter du har gjort endringer er den kanskje ikke like fin på mobil lenger. Klarer du å gjøre den 100% responsiv igjen? \n",
    "\n",
    "\n",
    "## Videre utvikling\n",
    "\n",
    "Nå som du har blitt bedre kjent med nettside-templaten er det bare å søke seg rundt på google og youtube for å få mer inspirasjon til kule features du kan implementere til porteføljen din! 😄\n",
    "\n",
    "### Noen eksempler på andre utviklere sine porteføljer\n",
    "\n",
    "https://brittanychiang.com/\n",
    "\n",
    "https://tamalsen.dev/\n",
    "\n",
    "https://olaolu.dev/\n",
    "\n",
    "https://robbowen.digital/\n",
    "\n",
    "https://bruno-simon.com/\n"
   ]
  },
  {
   "cell_type": "markdown",
   "metadata": {},
   "source": []
  }
 ],
 "metadata": {
  "kernelspec": {
   "display_name": "Python 3.10.8 64-bit",
   "language": "python",
   "name": "python3"
  },
  "language_info": {
   "name": "python",
   "version": "3.10.8"
  },
  "orig_nbformat": 4,
  "vscode": {
   "interpreter": {
    "hash": "aee8b7b246df8f9039afb4144a1f6fd8d2ca17a180786b69acc140d282b71a49"
   }
  }
 },
 "nbformat": 4,
 "nbformat_minor": 2
}
