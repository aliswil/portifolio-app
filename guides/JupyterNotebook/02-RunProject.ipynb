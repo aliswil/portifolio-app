{
 "cells": [
  {
   "cell_type": "markdown",
   "metadata": {},
   "source": [
    "## Kjøre prosjektet lokalt\n",
    "\n",
    "Før du kjører prosjektet skriver du følgende inn i terminalen for å installere eventuelle pakker prosjektet avhenger av: \n",
    "\n",
    "### `npm i`\n",
    "\n",
    "For å kjøre prosjektet så skriver du følgende inn i terminalen: \n",
    "\n",
    "### `npm start`\n",
    "\n",
    "Nå kjører appen i development mode.\\\n",
    "Åpne [http://localhost:3000](http://localhost:3000) for å se appen i nettleseren. "
   ]
  }
 ],
 "metadata": {
  "kernelspec": {
   "display_name": "Python 3.10.8 64-bit",
   "language": "python",
   "name": "python3"
  },
  "language_info": {
   "name": "python",
   "version": "3.10.8"
  },
  "orig_nbformat": 4,
  "vscode": {
   "interpreter": {
    "hash": "aee8b7b246df8f9039afb4144a1f6fd8d2ca17a180786b69acc140d282b71a49"
   }
  }
 },
 "nbformat": 4,
 "nbformat_minor": 2
}
